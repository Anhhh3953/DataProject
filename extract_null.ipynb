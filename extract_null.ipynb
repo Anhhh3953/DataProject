{
 "cells": [
  {
   "cell_type": "code",
   "execution_count": 1,
   "id": "98b351fa",
   "metadata": {},
   "outputs": [],
   "source": [
    "import numpy as np\n",
    "import pandas as pd\n",
    "import re"
   ]
  },
  {
   "cell_type": "code",
   "execution_count": 8,
   "id": "64ecca2c",
   "metadata": {},
   "outputs": [],
   "source": [
    "df = pd.read_csv('general_info_v3.csv')"
   ]
  },
  {
   "cell_type": "code",
   "execution_count": null,
   "id": "7c583ff0",
   "metadata": {},
   "outputs": [],
   "source": [
    "df_null = df[df.isnull().any(axis=1)]"
   ]
  },
  {
   "cell_type": "code",
   "execution_count": null,
   "id": "8cbc77f3",
   "metadata": {},
   "outputs": [
    {
     "data": {
      "text/plain": [
       "(694, 54)"
      ]
     },
     "execution_count": 13,
     "metadata": {},
     "output_type": "execute_result"
    }
   ],
   "source": [
    "df_null.shape"
   ]
  },
  {
   "cell_type": "code",
   "execution_count": 24,
   "id": "ee54d3c2",
   "metadata": {},
   "outputs": [
    {
     "name": "stderr",
     "output_type": "stream",
     "text": [
      "/var/folders/f7/w82860sx5s50by_v5jj51mxm0000gn/T/ipykernel_72096/2464684038.py:4: SettingWithCopyWarning: \n",
      "A value is trying to be set on a copy of a slice from a DataFrame\n",
      "\n",
      "See the caveats in the documentation: https://pandas.pydata.org/pandas-docs/stable/user_guide/indexing.html#returning-a-view-versus-a-copy\n",
      "  df_null_filtered.drop(columns=['o_cung_laptop', 'ports_slots', 'laptop_cong_nghe_am_thanh', 'discounted_price'], inplace=True)\n"
     ]
    }
   ],
   "source": [
    "null_cols = df_null.columns[df_null.isnull().any()].tolist()\n",
    "cols_to_keep = ['product_id', 'name', 'manufacturer'] + [col for col in null_cols if col not in ['product_id', 'name']]\n",
    "df_null_filtered = df_null[cols_to_keep]\n",
    "df_null_filtered.drop(columns=['o_cung_laptop', 'ports_slots', 'laptop_cong_nghe_am_thanh', 'discounted_price'], inplace=True)\n",
    "df_null_filtered.to_csv('data/laptop_info_null.csv', index=False)\n"
   ]
  },
  {
   "cell_type": "code",
   "execution_count": 25,
   "id": "7caeb81e",
   "metadata": {},
   "outputs": [],
   "source": [
    "df_null_rows = pd.read_csv('data/laptop_info_null.csv')"
   ]
  },
  {
   "cell_type": "code",
   "execution_count": 27,
   "id": "96cc1ab0",
   "metadata": {},
   "outputs": [
    {
     "data": {
      "text/plain": [
       "['product_id',\n",
       " 'name',\n",
       " 'manufacturer',\n",
       " 'vga_type',\n",
       " 'width_mm',\n",
       " 'height_mm',\n",
       " 'depth_mm',\n",
       " 'display_type',\n",
       " 'battery_capacity',\n",
       " 'laptop_camera',\n",
       " 'ram_slots',\n",
       " 'cpu_model',\n",
       " 'ram_speed',\n",
       " 'cpu_cores',\n",
       " 'laptop_tam_nen_man_hinh',\n",
       " 'root_price',\n",
       " 'cpu_max_speed',\n",
       " 'refresh_rate',\n",
       " 'cpu_threads',\n",
       " 'cpu_speed',\n",
       " 'vga_vram']"
      ]
     },
     "execution_count": 27,
     "metadata": {},
     "output_type": "execute_result"
    }
   ],
   "source": [
    "df_null_rows.columns.tolist()"
   ]
  }
 ],
 "metadata": {
  "kernelspec": {
   "display_name": "Python 3",
   "language": "python",
   "name": "python3"
  },
  "language_info": {
   "codemirror_mode": {
    "name": "ipython",
    "version": 3
   },
   "file_extension": ".py",
   "mimetype": "text/x-python",
   "name": "python",
   "nbconvert_exporter": "python",
   "pygments_lexer": "ipython3",
   "version": "3.9.6"
  }
 },
 "nbformat": 4,
 "nbformat_minor": 5
}
